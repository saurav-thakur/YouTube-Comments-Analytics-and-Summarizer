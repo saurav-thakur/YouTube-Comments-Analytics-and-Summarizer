{
 "cells": [
  {
   "cell_type": "markdown",
   "metadata": {},
   "source": [
    "Dataset is taken from kaggle - [Link](https://www.kaggle.com/datasets/thedevastator/hate-speech-and-offensive-language-detection)"
   ]
  },
  {
   "cell_type": "markdown",
   "metadata": {},
   "source": [
    "# Importing Dataset"
   ]
  },
  {
   "cell_type": "code",
   "execution_count": 1,
   "metadata": {},
   "outputs": [],
   "source": [
    "# to reload the notebook everytime a function is written in helper.py\n",
    "%load_ext autoreload\n",
    "%autoreload 2\n",
    "\n",
    "import numpy as np\n",
    "import pandas as pd\n",
    "import matplotlib.pyplot as plt\n",
    "import seaborn as sns\n",
    "import helper\n",
    "\n",
    "from sklearn.feature_extraction.text import CountVectorizer"
   ]
  },
  {
   "cell_type": "code",
   "execution_count": 2,
   "metadata": {},
   "outputs": [
    {
     "data": {
      "text/html": [
       "<div>\n",
       "<style scoped>\n",
       "    .dataframe tbody tr th:only-of-type {\n",
       "        vertical-align: middle;\n",
       "    }\n",
       "\n",
       "    .dataframe tbody tr th {\n",
       "        vertical-align: top;\n",
       "    }\n",
       "\n",
       "    .dataframe thead th {\n",
       "        text-align: right;\n",
       "    }\n",
       "</style>\n",
       "<table border=\"1\" class=\"dataframe\">\n",
       "  <thead>\n",
       "    <tr style=\"text-align: right;\">\n",
       "      <th></th>\n",
       "      <th>count</th>\n",
       "      <th>hate_speech_count</th>\n",
       "      <th>offensive_language_count</th>\n",
       "      <th>neither_count</th>\n",
       "      <th>class</th>\n",
       "      <th>tweet</th>\n",
       "    </tr>\n",
       "  </thead>\n",
       "  <tbody>\n",
       "    <tr>\n",
       "      <th>0</th>\n",
       "      <td>3</td>\n",
       "      <td>0</td>\n",
       "      <td>0</td>\n",
       "      <td>3</td>\n",
       "      <td>2</td>\n",
       "      <td>!!! RT @mayasolovely: As a woman you shouldn't...</td>\n",
       "    </tr>\n",
       "    <tr>\n",
       "      <th>1</th>\n",
       "      <td>3</td>\n",
       "      <td>0</td>\n",
       "      <td>3</td>\n",
       "      <td>0</td>\n",
       "      <td>1</td>\n",
       "      <td>!!!!! RT @mleew17: boy dats cold...tyga dwn ba...</td>\n",
       "    </tr>\n",
       "    <tr>\n",
       "      <th>2</th>\n",
       "      <td>3</td>\n",
       "      <td>0</td>\n",
       "      <td>3</td>\n",
       "      <td>0</td>\n",
       "      <td>1</td>\n",
       "      <td>!!!!!!! RT @UrKindOfBrand Dawg!!!! RT @80sbaby...</td>\n",
       "    </tr>\n",
       "    <tr>\n",
       "      <th>3</th>\n",
       "      <td>3</td>\n",
       "      <td>0</td>\n",
       "      <td>2</td>\n",
       "      <td>1</td>\n",
       "      <td>1</td>\n",
       "      <td>!!!!!!!!! RT @C_G_Anderson: @viva_based she lo...</td>\n",
       "    </tr>\n",
       "    <tr>\n",
       "      <th>4</th>\n",
       "      <td>6</td>\n",
       "      <td>0</td>\n",
       "      <td>6</td>\n",
       "      <td>0</td>\n",
       "      <td>1</td>\n",
       "      <td>!!!!!!!!!!!!! RT @ShenikaRoberts: The shit you...</td>\n",
       "    </tr>\n",
       "  </tbody>\n",
       "</table>\n",
       "</div>"
      ],
      "text/plain": [
       "   count  hate_speech_count  offensive_language_count  neither_count  class  \\\n",
       "0      3                  0                         0              3      2   \n",
       "1      3                  0                         3              0      1   \n",
       "2      3                  0                         3              0      1   \n",
       "3      3                  0                         2              1      1   \n",
       "4      6                  0                         6              0      1   \n",
       "\n",
       "                                               tweet  \n",
       "0  !!! RT @mayasolovely: As a woman you shouldn't...  \n",
       "1  !!!!! RT @mleew17: boy dats cold...tyga dwn ba...  \n",
       "2  !!!!!!! RT @UrKindOfBrand Dawg!!!! RT @80sbaby...  \n",
       "3  !!!!!!!!! RT @C_G_Anderson: @viva_based she lo...  \n",
       "4  !!!!!!!!!!!!! RT @ShenikaRoberts: The shit you...  "
      ]
     },
     "execution_count": 2,
     "metadata": {},
     "output_type": "execute_result"
    }
   ],
   "source": [
    "df = pd.read_csv(\"../dataset/archive/train.csv\")\n",
    "df.head()"
   ]
  },
  {
   "cell_type": "markdown",
   "metadata": {},
   "source": [
    "# Exploring Dataset"
   ]
  },
  {
   "cell_type": "code",
   "execution_count": 3,
   "metadata": {},
   "outputs": [
    {
     "data": {
      "text/html": [
       "<div>\n",
       "<style scoped>\n",
       "    .dataframe tbody tr th:only-of-type {\n",
       "        vertical-align: middle;\n",
       "    }\n",
       "\n",
       "    .dataframe tbody tr th {\n",
       "        vertical-align: top;\n",
       "    }\n",
       "\n",
       "    .dataframe thead th {\n",
       "        text-align: right;\n",
       "    }\n",
       "</style>\n",
       "<table border=\"1\" class=\"dataframe\">\n",
       "  <thead>\n",
       "    <tr style=\"text-align: right;\">\n",
       "      <th></th>\n",
       "      <th>count</th>\n",
       "      <th>hate_speech_count</th>\n",
       "      <th>offensive_language_count</th>\n",
       "      <th>neither_count</th>\n",
       "      <th>class</th>\n",
       "      <th>tweet</th>\n",
       "    </tr>\n",
       "  </thead>\n",
       "  <tbody>\n",
       "    <tr>\n",
       "      <th>11571</th>\n",
       "      <td>3</td>\n",
       "      <td>0</td>\n",
       "      <td>3</td>\n",
       "      <td>0</td>\n",
       "      <td>1</td>\n",
       "      <td>If she wears these to dinner then she's paying...</td>\n",
       "    </tr>\n",
       "    <tr>\n",
       "      <th>21313</th>\n",
       "      <td>3</td>\n",
       "      <td>0</td>\n",
       "      <td>2</td>\n",
       "      <td>1</td>\n",
       "      <td>1</td>\n",
       "      <td>Tell your bae \"ho tre testicoli\" it means \"I l...</td>\n",
       "    </tr>\n",
       "    <tr>\n",
       "      <th>4574</th>\n",
       "      <td>3</td>\n",
       "      <td>0</td>\n",
       "      <td>3</td>\n",
       "      <td>0</td>\n",
       "      <td>1</td>\n",
       "      <td>@RoseGoldBenzo duh...lol. Me tweeting about ea...</td>\n",
       "    </tr>\n",
       "    <tr>\n",
       "      <th>4164</th>\n",
       "      <td>3</td>\n",
       "      <td>0</td>\n",
       "      <td>3</td>\n",
       "      <td>0</td>\n",
       "      <td>1</td>\n",
       "      <td>@MorganSmith_20 unfortunately you are correct ...</td>\n",
       "    </tr>\n",
       "    <tr>\n",
       "      <th>13741</th>\n",
       "      <td>3</td>\n",
       "      <td>0</td>\n",
       "      <td>3</td>\n",
       "      <td>0</td>\n",
       "      <td>1</td>\n",
       "      <td>Over bitches trying to act like I own them a p...</td>\n",
       "    </tr>\n",
       "    <tr>\n",
       "      <th>15853</th>\n",
       "      <td>3</td>\n",
       "      <td>0</td>\n",
       "      <td>0</td>\n",
       "      <td>3</td>\n",
       "      <td>2</td>\n",
       "      <td>RT @JoleenDoreen: I was in a Kik group once. B...</td>\n",
       "    </tr>\n",
       "    <tr>\n",
       "      <th>656</th>\n",
       "      <td>3</td>\n",
       "      <td>0</td>\n",
       "      <td>3</td>\n",
       "      <td>0</td>\n",
       "      <td>1</td>\n",
       "      <td># That son of a bitch moment when it rains and...</td>\n",
       "    </tr>\n",
       "    <tr>\n",
       "      <th>9874</th>\n",
       "      <td>3</td>\n",
       "      <td>1</td>\n",
       "      <td>2</td>\n",
       "      <td>0</td>\n",
       "      <td>1</td>\n",
       "      <td>Holy fuck they some bomb ass bitches at Buc-ee's</td>\n",
       "    </tr>\n",
       "    <tr>\n",
       "      <th>3559</th>\n",
       "      <td>3</td>\n",
       "      <td>3</td>\n",
       "      <td>0</td>\n",
       "      <td>0</td>\n",
       "      <td>0</td>\n",
       "      <td>@JPantsdotcom @Todd__Kincannon @the__realtony ...</td>\n",
       "    </tr>\n",
       "    <tr>\n",
       "      <th>12598</th>\n",
       "      <td>3</td>\n",
       "      <td>0</td>\n",
       "      <td>3</td>\n",
       "      <td>0</td>\n",
       "      <td>1</td>\n",
       "      <td>Lol bitches be hella mad about they exs like w...</td>\n",
       "    </tr>\n",
       "    <tr>\n",
       "      <th>23420</th>\n",
       "      <td>3</td>\n",
       "      <td>0</td>\n",
       "      <td>3</td>\n",
       "      <td>0</td>\n",
       "      <td>1</td>\n",
       "      <td>You should probably go clean your nasty pussy ...</td>\n",
       "    </tr>\n",
       "    <tr>\n",
       "      <th>10169</th>\n",
       "      <td>3</td>\n",
       "      <td>1</td>\n",
       "      <td>2</td>\n",
       "      <td>0</td>\n",
       "      <td>1</td>\n",
       "      <td>I definitely cant FW a nigga that associates h...</td>\n",
       "    </tr>\n",
       "    <tr>\n",
       "      <th>6808</th>\n",
       "      <td>3</td>\n",
       "      <td>0</td>\n",
       "      <td>3</td>\n",
       "      <td>0</td>\n",
       "      <td>1</td>\n",
       "      <td>@ozwashere What the fuck is wrong with you. Yo...</td>\n",
       "    </tr>\n",
       "    <tr>\n",
       "      <th>6436</th>\n",
       "      <td>3</td>\n",
       "      <td>0</td>\n",
       "      <td>3</td>\n",
       "      <td>0</td>\n",
       "      <td>1</td>\n",
       "      <td>@kieffer_jason bitch get the fuck off my tl wh...</td>\n",
       "    </tr>\n",
       "    <tr>\n",
       "      <th>9356</th>\n",
       "      <td>3</td>\n",
       "      <td>0</td>\n",
       "      <td>0</td>\n",
       "      <td>3</td>\n",
       "      <td>2</td>\n",
       "      <td>GA Charlie @Charlie4927 @sholzbee @DorisTafoya...</td>\n",
       "    </tr>\n",
       "    <tr>\n",
       "      <th>1934</th>\n",
       "      <td>3</td>\n",
       "      <td>0</td>\n",
       "      <td>3</td>\n",
       "      <td>0</td>\n",
       "      <td>1</td>\n",
       "      <td>&amp;#8220;@trillasfvck: all these bitches getting...</td>\n",
       "    </tr>\n",
       "    <tr>\n",
       "      <th>19604</th>\n",
       "      <td>3</td>\n",
       "      <td>0</td>\n",
       "      <td>3</td>\n",
       "      <td>0</td>\n",
       "      <td>1</td>\n",
       "      <td>RT @maarycatherinee: @ken_dawqq bitch please i...</td>\n",
       "    </tr>\n",
       "    <tr>\n",
       "      <th>24248</th>\n",
       "      <td>3</td>\n",
       "      <td>1</td>\n",
       "      <td>2</td>\n",
       "      <td>0</td>\n",
       "      <td>1</td>\n",
       "      <td>need to get the sheriff Rick in here to show t...</td>\n",
       "    </tr>\n",
       "    <tr>\n",
       "      <th>2891</th>\n",
       "      <td>3</td>\n",
       "      <td>0</td>\n",
       "      <td>3</td>\n",
       "      <td>0</td>\n",
       "      <td>1</td>\n",
       "      <td>@Conrad_MLG im goin now so be expecting to get...</td>\n",
       "    </tr>\n",
       "    <tr>\n",
       "      <th>9300</th>\n",
       "      <td>3</td>\n",
       "      <td>0</td>\n",
       "      <td>3</td>\n",
       "      <td>0</td>\n",
       "      <td>1</td>\n",
       "      <td>Fuck with us you know we tweakin hoe</td>\n",
       "    </tr>\n",
       "  </tbody>\n",
       "</table>\n",
       "</div>"
      ],
      "text/plain": [
       "       count  hate_speech_count  offensive_language_count  neither_count  \\\n",
       "11571      3                  0                         3              0   \n",
       "21313      3                  0                         2              1   \n",
       "4574       3                  0                         3              0   \n",
       "4164       3                  0                         3              0   \n",
       "13741      3                  0                         3              0   \n",
       "15853      3                  0                         0              3   \n",
       "656        3                  0                         3              0   \n",
       "9874       3                  1                         2              0   \n",
       "3559       3                  3                         0              0   \n",
       "12598      3                  0                         3              0   \n",
       "23420      3                  0                         3              0   \n",
       "10169      3                  1                         2              0   \n",
       "6808       3                  0                         3              0   \n",
       "6436       3                  0                         3              0   \n",
       "9356       3                  0                         0              3   \n",
       "1934       3                  0                         3              0   \n",
       "19604      3                  0                         3              0   \n",
       "24248      3                  1                         2              0   \n",
       "2891       3                  0                         3              0   \n",
       "9300       3                  0                         3              0   \n",
       "\n",
       "       class                                              tweet  \n",
       "11571      1  If she wears these to dinner then she's paying...  \n",
       "21313      1  Tell your bae \"ho tre testicoli\" it means \"I l...  \n",
       "4574       1  @RoseGoldBenzo duh...lol. Me tweeting about ea...  \n",
       "4164       1  @MorganSmith_20 unfortunately you are correct ...  \n",
       "13741      1  Over bitches trying to act like I own them a p...  \n",
       "15853      2  RT @JoleenDoreen: I was in a Kik group once. B...  \n",
       "656        1  # That son of a bitch moment when it rains and...  \n",
       "9874       1   Holy fuck they some bomb ass bitches at Buc-ee's  \n",
       "3559       0  @JPantsdotcom @Todd__Kincannon @the__realtony ...  \n",
       "12598      1  Lol bitches be hella mad about they exs like w...  \n",
       "23420      1  You should probably go clean your nasty pussy ...  \n",
       "10169      1  I definitely cant FW a nigga that associates h...  \n",
       "6808       1  @ozwashere What the fuck is wrong with you. Yo...  \n",
       "6436       1  @kieffer_jason bitch get the fuck off my tl wh...  \n",
       "9356       2  GA Charlie @Charlie4927 @sholzbee @DorisTafoya...  \n",
       "1934       1  &#8220;@trillasfvck: all these bitches getting...  \n",
       "19604      1  RT @maarycatherinee: @ken_dawqq bitch please i...  \n",
       "24248      1  need to get the sheriff Rick in here to show t...  \n",
       "2891       1  @Conrad_MLG im goin now so be expecting to get...  \n",
       "9300       1               Fuck with us you know we tweakin hoe  "
      ]
     },
     "execution_count": 3,
     "metadata": {},
     "output_type": "execute_result"
    }
   ],
   "source": [
    "df.sample(20)"
   ]
  },
  {
   "cell_type": "code",
   "execution_count": 4,
   "metadata": {},
   "outputs": [
    {
     "name": "stdout",
     "output_type": "stream",
     "text": [
      "<class 'pandas.core.frame.DataFrame'>\n",
      "RangeIndex: 24783 entries, 0 to 24782\n",
      "Data columns (total 6 columns):\n",
      " #   Column                    Non-Null Count  Dtype \n",
      "---  ------                    --------------  ----- \n",
      " 0   count                     24783 non-null  int64 \n",
      " 1   hate_speech_count         24783 non-null  int64 \n",
      " 2   offensive_language_count  24783 non-null  int64 \n",
      " 3   neither_count             24783 non-null  int64 \n",
      " 4   class                     24783 non-null  int64 \n",
      " 5   tweet                     24783 non-null  object\n",
      "dtypes: int64(5), object(1)\n",
      "memory usage: 1.1+ MB\n"
     ]
    }
   ],
   "source": [
    "df.info()"
   ]
  },
  {
   "cell_type": "code",
   "execution_count": 5,
   "metadata": {},
   "outputs": [
    {
     "data": {
      "text/plain": [
       "class\n",
       "1    19190\n",
       "2     4163\n",
       "0     1430\n",
       "Name: count, dtype: int64"
      ]
     },
     "execution_count": 5,
     "metadata": {},
     "output_type": "execute_result"
    }
   ],
   "source": [
    "df[\"class\"].value_counts()"
   ]
  },
  {
   "cell_type": "markdown",
   "metadata": {},
   "source": [
    "This dataset is imbalanced"
   ]
  },
  {
   "cell_type": "code",
   "execution_count": 6,
   "metadata": {},
   "outputs": [
    {
     "data": {
      "text/plain": [
       "count                       0\n",
       "hate_speech_count           0\n",
       "offensive_language_count    0\n",
       "neither_count               0\n",
       "class                       0\n",
       "tweet                       0\n",
       "dtype: int64"
      ]
     },
     "execution_count": 6,
     "metadata": {},
     "output_type": "execute_result"
    }
   ],
   "source": [
    "df.isnull().sum()"
   ]
  },
  {
   "cell_type": "code",
   "execution_count": 7,
   "metadata": {},
   "outputs": [
    {
     "data": {
      "text/plain": [
       "'!!!!! RT @mleew17: boy dats cold...tyga dwn bad for cuffin dat hoe in the 1st place!!'"
      ]
     },
     "execution_count": 7,
     "metadata": {},
     "output_type": "execute_result"
    }
   ],
   "source": [
    "df[\"tweet\"][1]"
   ]
  },
  {
   "cell_type": "code",
   "execution_count": 8,
   "metadata": {},
   "outputs": [
    {
     "data": {
      "text/plain": [
       "'\"@ClicquotSuave: LMAOOOOOOOOOOO this nigga @Krillz_Nuh_Care http://t.co/AAnpSUjmYI\" &lt;bitch want likes for some depressing shit..foh'"
      ]
     },
     "execution_count": 8,
     "metadata": {},
     "output_type": "execute_result"
    }
   ],
   "source": [
    "df[\"tweet\"][100]"
   ]
  },
  {
   "cell_type": "code",
   "execution_count": 9,
   "metadata": {},
   "outputs": [
    {
     "data": {
      "text/plain": [
       "'\"@NewsomeJade: I ain\\'t never seen a bitch so obsessed with they nigga&#128514;\" I\\'m obsessed with mine &#128529;'"
      ]
     },
     "execution_count": 9,
     "metadata": {},
     "output_type": "execute_result"
    }
   ],
   "source": [
    "df[\"tweet\"][200]"
   ]
  },
  {
   "cell_type": "code",
   "execution_count": 10,
   "metadata": {},
   "outputs": [],
   "source": [
    "old_df = df.copy()"
   ]
  },
  {
   "cell_type": "markdown",
   "metadata": {},
   "source": [
    "# Preprocessing Data\n",
    "\n",
    "Preprocessing Techniques:\n",
    "\n",
    "Prior to training machine learning models or algorithms, we should apply standard preprocessing techniques such as removing URLs, usernames/handles, special characters/punctuation marks, stop words removal, tokenization, stemming/lemmatization etc., depending on your analysis requirements."
   ]
  },
  {
   "cell_type": "markdown",
   "metadata": {},
   "source": [
    "### Removing Retweets (RT)\n",
    "\n",
    "Some of the text which are retweeted contains RT in the text which does not contain any information. So we will remove this"
   ]
  },
  {
   "cell_type": "code",
   "execution_count": 11,
   "metadata": {},
   "outputs": [
    {
     "data": {
      "text/plain": [
       "0        !!! @mayasolovely: As a woman you shouldn't co...\n",
       "1        !!!!! @mleew17: boy dats cold...tyga dwn bad f...\n",
       "2        !!!!!!! @UrKindOfBrand Dawg!!!! @80sbaby4life:...\n",
       "3        !!!!!!!!! @C_G_Anderson: @viva_based she look ...\n",
       "4        !!!!!!!!!!!!! @ShenikaRoberts: The shit you he...\n",
       "                               ...                        \n",
       "24778    you's a muthaf***in lie &#8220;@LifeAsKing: @2...\n",
       "24779    you've gone and broke the wrong heart baby, an...\n",
       "24780    young buck wanna eat!!.. dat nigguh like I ain...\n",
       "24781                youu got wild bitches tellin you lies\n",
       "24782    ~~Ruffled | Ntac Eileen Dahlia - Beautiful col...\n",
       "Name: tweet, Length: 24783, dtype: object"
      ]
     },
     "execution_count": 11,
     "metadata": {},
     "output_type": "execute_result"
    }
   ],
   "source": [
    "df[\"tweet\"] = df[\"tweet\"].apply(lambda x: helper.remove_retweets_rt(x))\n",
    "df[\"tweet\"]"
   ]
  },
  {
   "cell_type": "markdown",
   "metadata": {},
   "source": [
    "# Removing emojis"
   ]
  },
  {
   "cell_type": "code",
   "execution_count": 12,
   "metadata": {},
   "outputs": [
    {
     "data": {
      "text/plain": [
       "0        !!! @mayasolovely: As a woman you shouldn't co...\n",
       "1        !!!!! @mleew17: boy dats cold...tyga dwn bad f...\n",
       "2        !!!!!!! @UrKindOfBrand Dawg!!!! @80sbaby4life:...\n",
       "3        !!!!!!!!! @C_G_Anderson: @viva_based she look ...\n",
       "4        !!!!!!!!!!!!! @ShenikaRoberts: The shit you he...\n",
       "                               ...                        \n",
       "24778    you's a muthaf***in lie @LifeAsKing: @20_Pearl...\n",
       "24779    you've gone and broke the wrong heart baby, an...\n",
       "24780    young buck wanna eat!!.. dat nigguh like I ain...\n",
       "24781                youu got wild bitches tellin you lies\n",
       "24782    ~~Ruffled | Ntac Eileen Dahlia - Beautiful col...\n",
       "Name: tweet, Length: 24783, dtype: object"
      ]
     },
     "execution_count": 12,
     "metadata": {},
     "output_type": "execute_result"
    }
   ],
   "source": [
    "df[\"tweet\"] = df[\"tweet\"].apply(lambda x: helper.remove_emojis(x))\n",
    "df[\"tweet\"]"
   ]
  },
  {
   "cell_type": "markdown",
   "metadata": {},
   "source": [
    "# Removing URLs"
   ]
  },
  {
   "cell_type": "code",
   "execution_count": 13,
   "metadata": {},
   "outputs": [
    {
     "data": {
      "text/plain": [
       "0        !!! @mayasolovely: As a woman you shouldn't co...\n",
       "1        !!!!! @mleew17: boy dats cold...tyga dwn bad f...\n",
       "2        !!!!!!! @UrKindOfBrand Dawg!!!! @80sbaby4life:...\n",
       "3        !!!!!!!!! @C_G_Anderson: @viva_based she look ...\n",
       "4        !!!!!!!!!!!!! @ShenikaRoberts: The shit you he...\n",
       "                               ...                        \n",
       "24778    you's a muthaf***in lie @LifeAsKing: @20_Pearl...\n",
       "24779    you've gone and broke the wrong heart baby, an...\n",
       "24780    young buck wanna eat!!.. dat nigguh like I ain...\n",
       "24781                youu got wild bitches tellin you lies\n",
       "24782    ~~Ruffled | Ntac Eileen Dahlia - Beautiful col...\n",
       "Name: tweet, Length: 24783, dtype: object"
      ]
     },
     "execution_count": 13,
     "metadata": {},
     "output_type": "execute_result"
    }
   ],
   "source": [
    "df[\"tweet\"] = df[\"tweet\"].apply(lambda x: helper.remove_html_links(x))\n",
    "df[\"tweet\"]"
   ]
  },
  {
   "cell_type": "markdown",
   "metadata": {},
   "source": [
    "### Lowecasing"
   ]
  },
  {
   "cell_type": "code",
   "execution_count": 14,
   "metadata": {},
   "outputs": [
    {
     "data": {
      "text/plain": [
       "0        !!! @mayasolovely: as a woman you shouldn't co...\n",
       "1        !!!!! @mleew17: boy dats cold...tyga dwn bad f...\n",
       "2        !!!!!!! @urkindofbrand dawg!!!! @80sbaby4life:...\n",
       "3        !!!!!!!!! @c_g_anderson: @viva_based she look ...\n",
       "4        !!!!!!!!!!!!! @shenikaroberts: the shit you he...\n",
       "                               ...                        \n",
       "24778    you's a muthaf***in lie @lifeasking: @20_pearl...\n",
       "24779    you've gone and broke the wrong heart baby, an...\n",
       "24780    young buck wanna eat!!.. dat nigguh like i ain...\n",
       "24781                youu got wild bitches tellin you lies\n",
       "24782    ~~ruffled | ntac eileen dahlia - beautiful col...\n",
       "Name: tweet, Length: 24783, dtype: object"
      ]
     },
     "execution_count": 14,
     "metadata": {},
     "output_type": "execute_result"
    }
   ],
   "source": [
    "df[\"tweet\"] = df[\"tweet\"].apply(lambda x: x.lower())\n",
    "df[\"tweet\"]"
   ]
  },
  {
   "cell_type": "markdown",
   "metadata": {},
   "source": [
    "### Remove Usernames"
   ]
  },
  {
   "cell_type": "code",
   "execution_count": 15,
   "metadata": {},
   "outputs": [
    {
     "data": {
      "text/plain": [
       "0        !!! : as a woman you shouldn't complain about ...\n",
       "1        !!!!! : boy dats cold...tyga dwn bad for cuffi...\n",
       "2        !!!!!!!  dawg!!!! : you ever fuck a bitch and ...\n",
       "3                      !!!!!!!!! :  she look like a tranny\n",
       "4        !!!!!!!!!!!!! : the shit you hear about me mig...\n",
       "                               ...                        \n",
       "24778    you's a muthaf***in lie :   right! his tl is t...\n",
       "24779    you've gone and broke the wrong heart baby, an...\n",
       "24780    young buck wanna eat!!.. dat nigguh like i ain...\n",
       "24781                youu got wild bitches tellin you lies\n",
       "24782    ~~ruffled | ntac eileen dahlia - beautiful col...\n",
       "Name: tweet, Length: 24783, dtype: object"
      ]
     },
     "execution_count": 15,
     "metadata": {},
     "output_type": "execute_result"
    }
   ],
   "source": [
    "df[\"tweet\"] = df[\"tweet\"].apply(lambda x: helper.remove_usernames(x))\n",
    "df[\"tweet\"]"
   ]
  },
  {
   "cell_type": "markdown",
   "metadata": {},
   "source": [
    "### Remove Numbers"
   ]
  },
  {
   "cell_type": "code",
   "execution_count": 16,
   "metadata": {},
   "outputs": [
    {
     "data": {
      "text/plain": [
       "0        !!! : as a woman you shouldn't complain about ...\n",
       "1        !!!!! : boy dats coldtyga dwn bad for cuffin d...\n",
       "2        !!!!!!!  dawg!!!! : you ever fuck a bitch and ...\n",
       "3                      !!!!!!!!! :  she look like a tranny\n",
       "4        !!!!!!!!!!!!! : the shit you hear about me mig...\n",
       "                               ...                        \n",
       "24778    you's a muthaf***in lie :   right! his tl is t...\n",
       "24779    you've gone and broke the wrong heart baby, an...\n",
       "24780    young buck wanna eat!! dat nigguh like i aint ...\n",
       "24781                youu got wild bitches tellin you lies\n",
       "24782    ~~ruffled | ntac eileen dahlia - beautiful col...\n",
       "Name: tweet, Length: 24783, dtype: object"
      ]
     },
     "execution_count": 16,
     "metadata": {},
     "output_type": "execute_result"
    }
   ],
   "source": [
    "df[\"tweet\"] = df[\"tweet\"].apply(lambda x: helper.remove_numbers(x))\n",
    "df[\"tweet\"]"
   ]
  },
  {
   "cell_type": "markdown",
   "metadata": {},
   "source": [
    "### Removing Punctuations"
   ]
  },
  {
   "cell_type": "code",
   "execution_count": 17,
   "metadata": {},
   "outputs": [
    {
     "data": {
      "text/plain": [
       "0          as a woman you shouldnt complain about clean...\n",
       "1          boy dats coldtyga dwn bad for cuffin dat hoe...\n",
       "2          dawg  you ever fuck a bitch and she start to...\n",
       "3                                   she look like a tranny\n",
       "4          the shit you hear about me might be true or ...\n",
       "                               ...                        \n",
       "24778    yous a muthafin lie    right his tl is trash  ...\n",
       "24779    youve gone and broke the wrong heart baby and ...\n",
       "24780    young buck wanna eat dat nigguh like i aint fu...\n",
       "24781                youu got wild bitches tellin you lies\n",
       "24782    ruffled  ntac eileen dahlia  beautiful color c...\n",
       "Name: tweet, Length: 24783, dtype: object"
      ]
     },
     "execution_count": 17,
     "metadata": {},
     "output_type": "execute_result"
    }
   ],
   "source": [
    "df[\"tweet\"] = df[\"tweet\"].apply(lambda x: helper.remove_punctuations(x))\n",
    "df[\"tweet\"]"
   ]
  },
  {
   "cell_type": "markdown",
   "metadata": {},
   "source": [
    "### Remove Unwanted Whitespace"
   ]
  },
  {
   "cell_type": "code",
   "execution_count": 18,
   "metadata": {},
   "outputs": [
    {
     "data": {
      "text/plain": [
       "'@nameis_as-13 623 wew 3242nnk wrwrwrs124124 0.233232424242412133131313133 100000000000000.1111'"
      ]
     },
     "execution_count": 18,
     "metadata": {},
     "output_type": "execute_result"
    }
   ],
   "source": [
    "tst = \"@nameis_as-13 623 wew 3242nnk                                                  wrwrwrs124124 0.233232424242412133131313133 100000000000000.1111\"\n",
    "helper.remove_unwanted_whitespaces(tst)"
   ]
  },
  {
   "cell_type": "code",
   "execution_count": 19,
   "metadata": {},
   "outputs": [
    {
     "data": {
      "text/plain": [
       "0         as a woman you shouldnt complain about cleani...\n",
       "1         boy dats coldtyga dwn bad for cuffin dat hoe ...\n",
       "2         dawg you ever fuck a bitch and she start to c...\n",
       "3                                   she look like a tranny\n",
       "4         the shit you hear about me might be true or i...\n",
       "                               ...                        \n",
       "24778    yous a muthafin lie right his tl is trash now ...\n",
       "24779    youve gone and broke the wrong heart baby and ...\n",
       "24780    young buck wanna eat dat nigguh like i aint fu...\n",
       "24781                youu got wild bitches tellin you lies\n",
       "24782    ruffled ntac eileen dahlia beautiful color com...\n",
       "Name: tweet, Length: 24783, dtype: object"
      ]
     },
     "execution_count": 19,
     "metadata": {},
     "output_type": "execute_result"
    }
   ],
   "source": [
    "df[\"tweet\"] = df[\"tweet\"].apply(lambda x: helper.remove_unwanted_whitespaces(x))\n",
    "df[\"tweet\"]\n"
   ]
  },
  {
   "cell_type": "markdown",
   "metadata": {},
   "source": [
    "# Correcting Spelling Mistakes\n",
    "\n",
    "Since this is a social media text. There might be lot of texts that contains spelling mistakes. So we will try to correct them."
   ]
  },
  {
   "cell_type": "code",
   "execution_count": 20,
   "metadata": {},
   "outputs": [
    {
     "data": {
      "text/plain": [
       "'certain conditions'"
      ]
     },
     "execution_count": 20,
     "metadata": {},
     "output_type": "execute_result"
    }
   ],
   "source": [
    "helper.correct_spelling_mistakes(\"ceertain conditionas\")"
   ]
  },
  {
   "cell_type": "code",
   "execution_count": 21,
   "metadata": {},
   "outputs": [],
   "source": [
    "# df[\"tweet\"] = df[\"tweet\"].apply(lambda x: helper.correct_spelling_mistakes(x))\n",
    "# df[\"tweet\"]"
   ]
  },
  {
   "cell_type": "markdown",
   "metadata": {},
   "source": [
    "### Tokenization\n",
    "\n",
    "Word-level tokenization can capture the nuances of language more finely. It's beneficial if the classification task relies on understanding the specific words and phrases used in the text to determine whether it contains hate speech.\n",
    "\n",
    "Sentence-level tokenization can be useful if the classification task focuses more on the overall context of the text rather than specific words.\n",
    "\n",
    "For our model we will use word level tokenization because:\n",
    "\n",
    "1. **Granularity of Information**: YouTube comments can be short and contain specific words or phrases that are indicative of hate speech. Word-level tokenization allows the model to capture the nuances of language at a more granular level, enabling it to identify hate speech based on the presence of specific words or combinations of words.\n",
    "\n",
    "2. **Contextual Understanding**: Hate speech can manifest in various ways, and understanding the context of specific words or phrases is crucial for accurate classification. Word-level tokenization enables the model to consider the surrounding words and phrases when making predictions, which can improve its ability to differentiate between hate speech and non-hateful language.\n",
    "\n",
    "3. **Flexibility in Handling Short Texts**: YouTube comments are often short and may not contain complete sentences. Word-level tokenization can handle such short texts effectively by breaking them down into individual words, ensuring that the model can still extract meaningful features from the comments even if they lack sentence structure.\n",
    "\n"
   ]
  },
  {
   "cell_type": "code",
   "execution_count": 22,
   "metadata": {},
   "outputs": [
    {
     "data": {
      "text/plain": [
       "0        [as, a, woman, you, shouldnt, complain, about,...\n",
       "1        [boy, dats, coldtyga, dwn, bad, for, cuffin, d...\n",
       "2        [dawg, you, ever, fuck, a, bitch, and, she, st...\n",
       "3                             [she, look, like, a, tranny]\n",
       "4        [the, shit, you, hear, about, me, might, be, t...\n",
       "                               ...                        \n",
       "24778    [yous, a, muthafin, lie, right, his, tl, is, t...\n",
       "24779    [youve, gone, and, broke, the, wrong, heart, b...\n",
       "24780    [young, buck, wan, na, eat, dat, nigguh, like,...\n",
       "24781        [youu, got, wild, bitches, tellin, you, lies]\n",
       "24782    [ruffled, ntac, eileen, dahlia, beautiful, col...\n",
       "Name: tweet, Length: 24783, dtype: object"
      ]
     },
     "execution_count": 22,
     "metadata": {},
     "output_type": "execute_result"
    }
   ],
   "source": [
    "df[\"tweet\"] = df[\"tweet\"].apply(lambda x: helper.tokenization(x))\n",
    "df[\"tweet\"]"
   ]
  },
  {
   "cell_type": "markdown",
   "metadata": {},
   "source": [
    "### Stop words removal"
   ]
  },
  {
   "cell_type": "code",
   "execution_count": 23,
   "metadata": {},
   "outputs": [
    {
     "data": {
      "text/plain": [
       "0        [woman, shouldnt, complain, cleaning, house, m...\n",
       "1        [boy, dats, coldtyga, dwn, bad, cuffin, dat, h...\n",
       "2        [dawg, ever, fuck, bitch, start, cry, confused...\n",
       "3                                     [look, like, tranny]\n",
       "4        [shit, hear, might, true, might, faker, bitch,...\n",
       "                               ...                        \n",
       "24778    [yous, muthafin, lie, right, tl, trash, mine, ...\n",
       "24779    [youve, gone, broke, wrong, heart, baby, drove...\n",
       "24780    [young, buck, wan, na, eat, dat, nigguh, like,...\n",
       "24781             [youu, got, wild, bitches, tellin, lies]\n",
       "24782    [ruffled, ntac, eileen, dahlia, beautiful, col...\n",
       "Name: tweet, Length: 24783, dtype: object"
      ]
     },
     "execution_count": 23,
     "metadata": {},
     "output_type": "execute_result"
    }
   ],
   "source": [
    "df[\"tweet\"] = df[\"tweet\"].apply(lambda x: helper.stopwords_removal(x))\n",
    "df[\"tweet\"]"
   ]
  },
  {
   "cell_type": "markdown",
   "metadata": {},
   "source": [
    "### Lemmatization\n",
    "\n",
    "Converting the word to its root word."
   ]
  },
  {
   "cell_type": "code",
   "execution_count": 24,
   "metadata": {},
   "outputs": [
    {
     "data": {
      "text/plain": [
       "0        [woman, shouldnt, complain, cleaning, house, m...\n",
       "1        [boy, dats, coldtyga, dwn, bad, cuffin, dat, h...\n",
       "2        [dawg, ever, fuck, bitch, start, cry, confused...\n",
       "3                                     [look, like, tranny]\n",
       "4        [shit, hear, might, true, might, faker, bitch,...\n",
       "                               ...                        \n",
       "24778    [yous, muthafin, lie, right, tl, trash, mine, ...\n",
       "24779    [youve, gone, broke, wrong, heart, baby, drove...\n",
       "24780    [young, buck, wan, na, eat, dat, nigguh, like,...\n",
       "24781             [youu, got, wild, bitches, tellin, lies]\n",
       "24782    [ruffled, ntac, eileen, dahlia, beautiful, col...\n",
       "Name: tweet, Length: 24783, dtype: object"
      ]
     },
     "execution_count": 24,
     "metadata": {},
     "output_type": "execute_result"
    }
   ],
   "source": [
    "df[\"tweet\"] = df[\"tweet\"].apply(lambda x: helper.lemmatize(x))\n",
    "df[\"tweet\"]"
   ]
  },
  {
   "cell_type": "code",
   "execution_count": 25,
   "metadata": {},
   "outputs": [
    {
     "data": {
      "text/plain": [
       "'lmaooooooooooo nigga bitch want likes depressing shitfoh'"
      ]
     },
     "execution_count": 25,
     "metadata": {},
     "output_type": "execute_result"
    }
   ],
   "source": [
    "\" \".join(df[\"tweet\"][100])"
   ]
  },
  {
   "cell_type": "code",
   "execution_count": 26,
   "metadata": {},
   "outputs": [],
   "source": [
    "df[\"tweet\"] = df[\"tweet\"].apply(lambda x: \" \".join(x))"
   ]
  },
  {
   "cell_type": "code",
   "execution_count": 27,
   "metadata": {},
   "outputs": [
    {
     "data": {
      "text/plain": [
       "array([2, 1, 0], dtype=int64)"
      ]
     },
     "execution_count": 27,
     "metadata": {},
     "output_type": "execute_result"
    }
   ],
   "source": [
    "df[\"class\"].unique()"
   ]
  },
  {
   "cell_type": "markdown",
   "metadata": {},
   "source": [
    "# Data Splitting"
   ]
  },
  {
   "cell_type": "code",
   "execution_count": 52,
   "metadata": {},
   "outputs": [],
   "source": [
    "X = df.drop(\"class\",axis=1)\n",
    "y = df[\"class\"]"
   ]
  },
  {
   "cell_type": "code",
   "execution_count": 53,
   "metadata": {},
   "outputs": [
    {
     "data": {
      "text/html": [
       "<div>\n",
       "<style scoped>\n",
       "    .dataframe tbody tr th:only-of-type {\n",
       "        vertical-align: middle;\n",
       "    }\n",
       "\n",
       "    .dataframe tbody tr th {\n",
       "        vertical-align: top;\n",
       "    }\n",
       "\n",
       "    .dataframe thead th {\n",
       "        text-align: right;\n",
       "    }\n",
       "</style>\n",
       "<table border=\"1\" class=\"dataframe\">\n",
       "  <thead>\n",
       "    <tr style=\"text-align: right;\">\n",
       "      <th></th>\n",
       "      <th>count</th>\n",
       "      <th>hate_speech_count</th>\n",
       "      <th>offensive_language_count</th>\n",
       "      <th>neither_count</th>\n",
       "      <th>tweet</th>\n",
       "    </tr>\n",
       "  </thead>\n",
       "  <tbody>\n",
       "    <tr>\n",
       "      <th>0</th>\n",
       "      <td>3</td>\n",
       "      <td>0</td>\n",
       "      <td>0</td>\n",
       "      <td>3</td>\n",
       "      <td>woman shouldnt complain cleaning house man alw...</td>\n",
       "    </tr>\n",
       "    <tr>\n",
       "      <th>1</th>\n",
       "      <td>3</td>\n",
       "      <td>0</td>\n",
       "      <td>3</td>\n",
       "      <td>0</td>\n",
       "      <td>boy dats coldtyga dwn bad cuffin dat hoe st place</td>\n",
       "    </tr>\n",
       "    <tr>\n",
       "      <th>2</th>\n",
       "      <td>3</td>\n",
       "      <td>0</td>\n",
       "      <td>3</td>\n",
       "      <td>0</td>\n",
       "      <td>dawg ever fuck bitch start cry confused shit</td>\n",
       "    </tr>\n",
       "    <tr>\n",
       "      <th>3</th>\n",
       "      <td>3</td>\n",
       "      <td>0</td>\n",
       "      <td>2</td>\n",
       "      <td>1</td>\n",
       "      <td>look like tranny</td>\n",
       "    </tr>\n",
       "    <tr>\n",
       "      <th>4</th>\n",
       "      <td>6</td>\n",
       "      <td>0</td>\n",
       "      <td>6</td>\n",
       "      <td>0</td>\n",
       "      <td>shit hear might true might faker bitch told ya</td>\n",
       "    </tr>\n",
       "    <tr>\n",
       "      <th>...</th>\n",
       "      <td>...</td>\n",
       "      <td>...</td>\n",
       "      <td>...</td>\n",
       "      <td>...</td>\n",
       "      <td>...</td>\n",
       "    </tr>\n",
       "    <tr>\n",
       "      <th>24778</th>\n",
       "      <td>3</td>\n",
       "      <td>0</td>\n",
       "      <td>2</td>\n",
       "      <td>1</td>\n",
       "      <td>yous muthafin lie right tl trash mine bible sc...</td>\n",
       "    </tr>\n",
       "    <tr>\n",
       "      <th>24779</th>\n",
       "      <td>3</td>\n",
       "      <td>0</td>\n",
       "      <td>1</td>\n",
       "      <td>2</td>\n",
       "      <td>youve gone broke wrong heart baby drove rednec...</td>\n",
       "    </tr>\n",
       "    <tr>\n",
       "      <th>24780</th>\n",
       "      <td>3</td>\n",
       "      <td>0</td>\n",
       "      <td>3</td>\n",
       "      <td>0</td>\n",
       "      <td>young buck wan na eat dat nigguh like aint fuc...</td>\n",
       "    </tr>\n",
       "    <tr>\n",
       "      <th>24781</th>\n",
       "      <td>6</td>\n",
       "      <td>0</td>\n",
       "      <td>6</td>\n",
       "      <td>0</td>\n",
       "      <td>youu got wild bitches tellin lies</td>\n",
       "    </tr>\n",
       "    <tr>\n",
       "      <th>24782</th>\n",
       "      <td>3</td>\n",
       "      <td>0</td>\n",
       "      <td>0</td>\n",
       "      <td>3</td>\n",
       "      <td>ruffled ntac eileen dahlia beautiful color com...</td>\n",
       "    </tr>\n",
       "  </tbody>\n",
       "</table>\n",
       "<p>24783 rows × 5 columns</p>\n",
       "</div>"
      ],
      "text/plain": [
       "       count  hate_speech_count  offensive_language_count  neither_count  \\\n",
       "0          3                  0                         0              3   \n",
       "1          3                  0                         3              0   \n",
       "2          3                  0                         3              0   \n",
       "3          3                  0                         2              1   \n",
       "4          6                  0                         6              0   \n",
       "...      ...                ...                       ...            ...   \n",
       "24778      3                  0                         2              1   \n",
       "24779      3                  0                         1              2   \n",
       "24780      3                  0                         3              0   \n",
       "24781      6                  0                         6              0   \n",
       "24782      3                  0                         0              3   \n",
       "\n",
       "                                                   tweet  \n",
       "0      woman shouldnt complain cleaning house man alw...  \n",
       "1      boy dats coldtyga dwn bad cuffin dat hoe st place  \n",
       "2           dawg ever fuck bitch start cry confused shit  \n",
       "3                                       look like tranny  \n",
       "4         shit hear might true might faker bitch told ya  \n",
       "...                                                  ...  \n",
       "24778  yous muthafin lie right tl trash mine bible sc...  \n",
       "24779  youve gone broke wrong heart baby drove rednec...  \n",
       "24780  young buck wan na eat dat nigguh like aint fuc...  \n",
       "24781                  youu got wild bitches tellin lies  \n",
       "24782  ruffled ntac eileen dahlia beautiful color com...  \n",
       "\n",
       "[24783 rows x 5 columns]"
      ]
     },
     "execution_count": 53,
     "metadata": {},
     "output_type": "execute_result"
    }
   ],
   "source": [
    "X"
   ]
  },
  {
   "cell_type": "code",
   "execution_count": 54,
   "metadata": {},
   "outputs": [],
   "source": [
    "from sklearn.model_selection import train_test_split\n",
    "\n",
    "X_train,X_test,y_train,y_test = train_test_split(X,y,test_size=0.2,random_state=41)"
   ]
  },
  {
   "cell_type": "markdown",
   "metadata": {},
   "source": [
    "# Feature Extraction / Text Vectorization\n",
    "\n",
    "Converting text into numbers"
   ]
  },
  {
   "cell_type": "code",
   "execution_count": 55,
   "metadata": {},
   "outputs": [
    {
     "data": {
      "text/html": [
       "<div>\n",
       "<style scoped>\n",
       "    .dataframe tbody tr th:only-of-type {\n",
       "        vertical-align: middle;\n",
       "    }\n",
       "\n",
       "    .dataframe tbody tr th {\n",
       "        vertical-align: top;\n",
       "    }\n",
       "\n",
       "    .dataframe thead th {\n",
       "        text-align: right;\n",
       "    }\n",
       "</style>\n",
       "<table border=\"1\" class=\"dataframe\">\n",
       "  <thead>\n",
       "    <tr style=\"text-align: right;\">\n",
       "      <th></th>\n",
       "      <th>count</th>\n",
       "      <th>hate_speech_count</th>\n",
       "      <th>offensive_language_count</th>\n",
       "      <th>neither_count</th>\n",
       "      <th>class</th>\n",
       "      <th>tweet</th>\n",
       "    </tr>\n",
       "  </thead>\n",
       "  <tbody>\n",
       "    <tr>\n",
       "      <th>0</th>\n",
       "      <td>3</td>\n",
       "      <td>0</td>\n",
       "      <td>0</td>\n",
       "      <td>3</td>\n",
       "      <td>2</td>\n",
       "      <td>woman shouldnt complain cleaning house man alw...</td>\n",
       "    </tr>\n",
       "    <tr>\n",
       "      <th>1</th>\n",
       "      <td>3</td>\n",
       "      <td>0</td>\n",
       "      <td>3</td>\n",
       "      <td>0</td>\n",
       "      <td>1</td>\n",
       "      <td>boy dats coldtyga dwn bad cuffin dat hoe st place</td>\n",
       "    </tr>\n",
       "    <tr>\n",
       "      <th>2</th>\n",
       "      <td>3</td>\n",
       "      <td>0</td>\n",
       "      <td>3</td>\n",
       "      <td>0</td>\n",
       "      <td>1</td>\n",
       "      <td>dawg ever fuck bitch start cry confused shit</td>\n",
       "    </tr>\n",
       "    <tr>\n",
       "      <th>3</th>\n",
       "      <td>3</td>\n",
       "      <td>0</td>\n",
       "      <td>2</td>\n",
       "      <td>1</td>\n",
       "      <td>1</td>\n",
       "      <td>look like tranny</td>\n",
       "    </tr>\n",
       "    <tr>\n",
       "      <th>4</th>\n",
       "      <td>6</td>\n",
       "      <td>0</td>\n",
       "      <td>6</td>\n",
       "      <td>0</td>\n",
       "      <td>1</td>\n",
       "      <td>shit hear might true might faker bitch told ya</td>\n",
       "    </tr>\n",
       "  </tbody>\n",
       "</table>\n",
       "</div>"
      ],
      "text/plain": [
       "   count  hate_speech_count  offensive_language_count  neither_count  class  \\\n",
       "0      3                  0                         0              3      2   \n",
       "1      3                  0                         3              0      1   \n",
       "2      3                  0                         3              0      1   \n",
       "3      3                  0                         2              1      1   \n",
       "4      6                  0                         6              0      1   \n",
       "\n",
       "                                               tweet  \n",
       "0  woman shouldnt complain cleaning house man alw...  \n",
       "1  boy dats coldtyga dwn bad cuffin dat hoe st place  \n",
       "2       dawg ever fuck bitch start cry confused shit  \n",
       "3                                   look like tranny  \n",
       "4     shit hear might true might faker bitch told ya  "
      ]
     },
     "execution_count": 55,
     "metadata": {},
     "output_type": "execute_result"
    }
   ],
   "source": [
    "df.head()"
   ]
  },
  {
   "cell_type": "code",
   "execution_count": 56,
   "metadata": {},
   "outputs": [],
   "source": [
    "# binary is true because we want to know if certain hate words orccurs in a text data or not rather \n",
    "# than calculating the frequency.\n",
    "\n",
    "cv = CountVectorizer(binary=True,max_features=1000)\n",
    "X_train_trf = cv.fit_transform(X_train[\"tweet\"])\n",
    "X_test_trf = cv.transform(X_test[\"tweet\"])"
   ]
  },
  {
   "cell_type": "code",
   "execution_count": 40,
   "metadata": {},
   "outputs": [
    {
     "data": {
      "text/plain": [
       "1000"
      ]
     },
     "execution_count": 40,
     "metadata": {},
     "output_type": "execute_result"
    }
   ],
   "source": [
    "len(cv.vocabulary_)"
   ]
  },
  {
   "cell_type": "code",
   "execution_count": 64,
   "metadata": {},
   "outputs": [],
   "source": [
    "# X_train_trf[0].toarray()"
   ]
  },
  {
   "cell_type": "markdown",
   "metadata": {},
   "source": [
    "# Model Building"
   ]
  },
  {
   "cell_type": "code",
   "execution_count": 42,
   "metadata": {},
   "outputs": [],
   "source": [
    "from xgboost import XGBClassifier\n",
    "from sklearn.metrics import accuracy_score"
   ]
  },
  {
   "cell_type": "code",
   "execution_count": 43,
   "metadata": {},
   "outputs": [
    {
     "data": {
      "text/plain": [
       "0.9043776477708292"
      ]
     },
     "execution_count": 43,
     "metadata": {},
     "output_type": "execute_result"
    }
   ],
   "source": [
    "xgb = XGBClassifier()\n",
    "xgb.fit(X_train_trf,y_train)\n",
    "y_pred = xgb.predict(X_test_trf)\n",
    "accuracy_score(y_test,y_pred)"
   ]
  },
  {
   "cell_type": "code",
   "execution_count": 63,
   "metadata": {},
   "outputs": [
    {
     "name": "stdout",
     "output_type": "stream",
     "text": [
      "accuracy is 0.8721000605204761\n",
      "accuracy is 0.8763364938470849\n",
      "accuracy is 0.9211216461569498\n",
      "accuracy is 0.9188861985472155\n",
      "accuracy is 0.9130347054075868\n",
      "Mean Accuracy is 0.9002958208958628\n"
     ]
    }
   ],
   "source": [
    "from sklearn.model_selection import KFold\n",
    "\n",
    "k_fold = KFold(n_splits=5)\n",
    "\n",
    "accuracy_list = []\n",
    "\n",
    "for train_idx,test_idx in k_fold.split(X):\n",
    "    cv = CountVectorizer(binary=True,max_features=1000)\n",
    "\n",
    "    X_train,y_train = X.loc[train_idx],y.loc[train_idx]\n",
    "    X_test,y_test = X.loc[test_idx],y.loc[test_idx]\n",
    "\n",
    "    X_train_trf = cv.fit_transform(X_train[\"tweet\"])\n",
    "    X_test_trf = cv.transform(X_test[\"tweet\"])\n",
    "\n",
    "\n",
    "    xgb = XGBClassifier()\n",
    "    xgb.fit(X_train_trf,y_train)\n",
    "    y_pred = xgb.predict(X_test_trf)\n",
    "    print(f\"accuracy is {accuracy_score(y_test,y_pred)}\")\n",
    "    accuracy_list.append(accuracy_score(y_test,y_pred))\n",
    "\n",
    "print(f\"Mean Accuracy is {np.mean(accuracy_list)}\")"
   ]
  },
  {
   "cell_type": "code",
   "execution_count": null,
   "metadata": {},
   "outputs": [],
   "source": []
  }
 ],
 "metadata": {
  "kernelspec": {
   "display_name": ".venv",
   "language": "python",
   "name": "python3"
  },
  "language_info": {
   "codemirror_mode": {
    "name": "ipython",
    "version": 3
   },
   "file_extension": ".py",
   "mimetype": "text/x-python",
   "name": "python",
   "nbconvert_exporter": "python",
   "pygments_lexer": "ipython3",
   "version": "3.11.5"
  }
 },
 "nbformat": 4,
 "nbformat_minor": 2
}
